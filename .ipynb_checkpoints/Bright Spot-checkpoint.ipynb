{
 "cells": [
  {
   "cell_type": "markdown",
   "metadata": {},
   "source": [
    "# Data Cleaning"
   ]
  },
  {
   "cell_type": "code",
   "execution_count": 75,
   "metadata": {},
   "outputs": [],
   "source": [
    "import numpy as np\n",
    "import pandas as pd\n",
    "import seaborn as sns\n",
    "import matplotlib.pyplot as plt\n",
    "#from mpl_toolkits.basemap import Basemap as bm\n",
    "import pymc3 as pm"
   ]
  },
  {
   "cell_type": "code",
   "execution_count": 76,
   "metadata": {},
   "outputs": [],
   "source": [
    "df = pd.read_csv('DB_edited.csv', encoding = \"ISO-8859-1\", engine='python')\n",
    "df.head()\n",
    "# shorten to just 500 lines as a test of functionality\n",
    "df = df.head(100)"
   ]
  },
  {
   "cell_type": "markdown",
   "metadata": {},
   "source": [
    "First attaching relevent variables"
   ]
  },
  {
   "cell_type": "code",
   "execution_count": 77,
   "metadata": {},
   "outputs": [
    {
     "data": {
      "text/html": [
       "<div>\n",
       "<style scoped>\n",
       "    .dataframe tbody tr th:only-of-type {\n",
       "        vertical-align: middle;\n",
       "    }\n",
       "\n",
       "    .dataframe tbody tr th {\n",
       "        vertical-align: top;\n",
       "    }\n",
       "\n",
       "    .dataframe thead th {\n",
       "        text-align: right;\n",
       "    }\n",
       "</style>\n",
       "<table border=\"1\" class=\"dataframe\">\n",
       "  <thead>\n",
       "    <tr style=\"text-align: right;\">\n",
       "      <th></th>\n",
       "      <th>Country Name</th>\n",
       "      <th>Country Code</th>\n",
       "      <th>Year</th>\n",
       "      <th>World_pop</th>\n",
       "    </tr>\n",
       "  </thead>\n",
       "  <tbody>\n",
       "    <tr>\n",
       "      <th>0</th>\n",
       "      <td>Aruba</td>\n",
       "      <td>ABW</td>\n",
       "      <td>A</td>\n",
       "      <td>96735.0</td>\n",
       "    </tr>\n",
       "    <tr>\n",
       "      <th>1</th>\n",
       "      <td>Afghanistan</td>\n",
       "      <td>AFG</td>\n",
       "      <td>A</td>\n",
       "      <td>23653918.0</td>\n",
       "    </tr>\n",
       "    <tr>\n",
       "      <th>2</th>\n",
       "      <td>Angola</td>\n",
       "      <td>AGO</td>\n",
       "      <td>A</td>\n",
       "      <td>18155679.2</td>\n",
       "    </tr>\n",
       "    <tr>\n",
       "      <th>3</th>\n",
       "      <td>Albania</td>\n",
       "      <td>ALB</td>\n",
       "      <td>A</td>\n",
       "      <td>3037845.0</td>\n",
       "    </tr>\n",
       "    <tr>\n",
       "      <th>4</th>\n",
       "      <td>Andorra</td>\n",
       "      <td>AND</td>\n",
       "      <td>A</td>\n",
       "      <td>73136.6</td>\n",
       "    </tr>\n",
       "  </tbody>\n",
       "</table>\n",
       "</div>"
      ],
      "text/plain": [
       "  Country Name Country Code Year   World_pop\n",
       "0        Aruba          ABW    A     96735.0\n",
       "1  Afghanistan          AFG    A  23653918.0\n",
       "2       Angola          AGO    A  18155679.2\n",
       "3      Albania          ALB    A   3037845.0\n",
       "4      Andorra          AND    A     73136.6"
      ]
     },
     "execution_count": 77,
     "metadata": {},
     "output_type": "execute_result"
    }
   ],
   "source": [
    "#three letter codes for each country\n",
    "ctry_codes = pd.read_excel('Variables_condensed.xlsx', sheet_name='Country_codes')\n",
    "#voice and accountability for each country\n",
    "Voice = pd.read_excel('Variables_condensed.xlsx', sheet_name='Voice_&_Accountability')\n",
    "#World Population by country\n",
    "Population = pd.read_excel('Variables_condensed.xlsx', sheet_name='World_populations')\n",
    "#Human Development Index\n",
    "HDI = pd.read_excel('Variables_condensed.xlsx', sheet_name='HDI')\n",
    "Population.head()\n"
   ]
  },
  {
   "cell_type": "code",
   "execution_count": 79,
   "metadata": {},
   "outputs": [
    {
     "name": "stdout",
     "output_type": "stream",
     "text": [
      "2016.0    84\n",
      "2017.0    16\n",
      "Name: Year, dtype: int64\n"
     ]
    }
   ],
   "source": [
    "#figure out how split up year based off distribution\n",
    "\n",
    "#remove NA's in Year\n",
    "df = df.dropna(axis=0, subset=['Year'],inplace=False)\n",
    "print(df['Year'].value_counts())\n",
    "\n",
    "# remove year zeros\n",
    "indexNames = df[df['Year'] == 0].index\n",
    "df.drop(indexNames, inplace=True)\n",
    "\n",
    "#plot distribution of year\n",
    "histo = df['Year']\n",
    "print(sns.distplot([histo]))"
   ]
  },
  {
   "cell_type": "markdown",
   "metadata": {},
   "source": [
    "looks like 5 year incriments will be good from 2020 to maybe 2000, for now testing will remove if older than 2000"
   ]
  },
  {
   "cell_type": "code",
   "execution_count": 80,
   "metadata": {},
   "outputs": [],
   "source": [
    "# remove data prior to 2001\n",
    "indexNames = df[df['Year'] <= 2000].index\n",
    "df.drop(indexNames, inplace=True)\n",
    "\n",
    "# make 2001-2005 'A', 2006-2010 'B', 2011-2015 'C', 2016-2020 'D'\n",
    "yeardict = {2001: 'A', 2002: 'A', 2003: 'A', 2004: 'A', 2005: 'A', 2006: 'B', 2007: 'B', 2008: 'B', 2009: 'B',\n",
    "           2010: 'B', 2011: 'C', 2012: 'C', 2013: 'C', 2014: 'C', 2015: 'C', 2016: 'D', 2017: 'D', 2018: 'D',\n",
    "           2019: 'D', 2020: 'D'} #create key and value for each\n",
    "df = df.replace(yeardict)"
   ]
  },
  {
   "cell_type": "markdown",
   "metadata": {},
   "source": [
    "Variables were averaged for each of the time frames A, B, C, D"
   ]
  },
  {
   "cell_type": "code",
   "execution_count": 81,
   "metadata": {},
   "outputs": [],
   "source": [
    "# attach coulumn country codes\n",
    "df = pd.merge(df, ctry_codes,  how='left', left_on=['country'], right_on=['Country']).drop(['Country'], axis=1)\n",
    "#df.info()\n",
    "#2,000 entries do not have a valid country name"
   ]
  },
  {
   "cell_type": "code",
   "execution_count": 82,
   "metadata": {},
   "outputs": [],
   "source": [
    "#attach column HDI, Voice and Population\n",
    "df = pd.merge(df, HDI,  how='left', left_on=['Code', 'Year'],\n",
    "              right_on=['Country code', 'Year'], suffixes='_x')\n",
    "df = pd.merge(df, Voice,  how='left', left_on=['Code', 'Year'],\n",
    "              right_on=['Country Code', 'Year'], suffixes='_x')\n",
    "df = pd.merge(df, Population,  how='left', left_on=['Code', 'Year'],\n",
    "              right_on=['Country Code', 'Year'], suffixes='_x')\n",
    "df = df.drop(['Country Name_', 'Country code', 'Country Code_', 'Country Namex',\n",
    "            'Country Codex'], axis=1)\n",
    "df['den'] = pd.to_numeric(df['den'], errors='coerce') #change density to float"
   ]
  },
  {
   "cell_type": "code",
   "execution_count": 83,
   "metadata": {},
   "outputs": [
    {
     "data": {
      "text/html": [
       "<div>\n",
       "<style scoped>\n",
       "    .dataframe tbody tr th:only-of-type {\n",
       "        vertical-align: middle;\n",
       "    }\n",
       "\n",
       "    .dataframe tbody tr th {\n",
       "        vertical-align: top;\n",
       "    }\n",
       "\n",
       "    .dataframe thead th {\n",
       "        text-align: right;\n",
       "    }\n",
       "</style>\n",
       "<table border=\"1\" class=\"dataframe\">\n",
       "  <thead>\n",
       "    <tr style=\"text-align: right;\">\n",
       "      <th></th>\n",
       "      <th>the_source</th>\n",
       "      <th>Code</th>\n",
       "      <th>Lat</th>\n",
       "      <th>Lon</th>\n",
       "      <th>Year</th>\n",
       "      <th>depth_m</th>\n",
       "      <th>Phylum</th>\n",
       "      <th>den</th>\n",
       "      <th>HDI</th>\n",
       "      <th>Voice</th>\n",
       "      <th>World_pop</th>\n",
       "    </tr>\n",
       "  </thead>\n",
       "  <tbody>\n",
       "    <tr>\n",
       "      <th>0</th>\n",
       "      <td>LTO</td>\n",
       "      <td>MOZ</td>\n",
       "      <td>-24.067983</td>\n",
       "      <td>35.053267</td>\n",
       "      <td>D</td>\n",
       "      <td>17.7</td>\n",
       "      <td>Echinodermata</td>\n",
       "      <td>0.25</td>\n",
       "      <td>0.441</td>\n",
       "      <td>-0.435327</td>\n",
       "      <td>2.865830e+07</td>\n",
       "    </tr>\n",
       "    <tr>\n",
       "      <th>1</th>\n",
       "      <td>LTO</td>\n",
       "      <td>MOZ</td>\n",
       "      <td>-24.067983</td>\n",
       "      <td>35.053267</td>\n",
       "      <td>D</td>\n",
       "      <td>16</td>\n",
       "      <td>Echinodermata</td>\n",
       "      <td>9.50</td>\n",
       "      <td>0.441</td>\n",
       "      <td>-0.435327</td>\n",
       "      <td>2.865830e+07</td>\n",
       "    </tr>\n",
       "    <tr>\n",
       "      <th>2</th>\n",
       "      <td>LTO</td>\n",
       "      <td>MOZ</td>\n",
       "      <td>-24.066992</td>\n",
       "      <td>35.503783</td>\n",
       "      <td>D</td>\n",
       "      <td>16</td>\n",
       "      <td>Cnidaria</td>\n",
       "      <td>0.50</td>\n",
       "      <td>0.441</td>\n",
       "      <td>-0.435327</td>\n",
       "      <td>2.865830e+07</td>\n",
       "    </tr>\n",
       "    <tr>\n",
       "      <th>3</th>\n",
       "      <td>LTO</td>\n",
       "      <td>MOZ</td>\n",
       "      <td>-24.066992</td>\n",
       "      <td>35.503783</td>\n",
       "      <td>D</td>\n",
       "      <td>16</td>\n",
       "      <td>Echinodermata</td>\n",
       "      <td>0.25</td>\n",
       "      <td>0.441</td>\n",
       "      <td>-0.435327</td>\n",
       "      <td>2.865830e+07</td>\n",
       "    </tr>\n",
       "    <tr>\n",
       "      <th>4</th>\n",
       "      <td>LTO</td>\n",
       "      <td>MOZ</td>\n",
       "      <td>-24.066992</td>\n",
       "      <td>35.503783</td>\n",
       "      <td>D</td>\n",
       "      <td>17.7</td>\n",
       "      <td>Cnidaria</td>\n",
       "      <td>1.75</td>\n",
       "      <td>0.441</td>\n",
       "      <td>-0.435327</td>\n",
       "      <td>2.865830e+07</td>\n",
       "    </tr>\n",
       "  </tbody>\n",
       "</table>\n",
       "</div>"
      ],
      "text/plain": [
       "  the_source Code         Lat        Lon Year depth_m         Phylum   den  \\\n",
       "0        LTO  MOZ  -24.067983  35.053267    D    17.7  Echinodermata  0.25   \n",
       "1        LTO  MOZ  -24.067983  35.053267    D      16  Echinodermata  9.50   \n",
       "2        LTO  MOZ  -24.066992  35.503783    D      16       Cnidaria  0.50   \n",
       "3        LTO  MOZ  -24.066992  35.503783    D      16  Echinodermata  0.25   \n",
       "4        LTO  MOZ  -24.066992  35.503783    D    17.7       Cnidaria  1.75   \n",
       "\n",
       "     HDI     Voice     World_pop  \n",
       "0  0.441 -0.435327  2.865830e+07  \n",
       "1  0.441 -0.435327  2.865830e+07  \n",
       "2  0.441 -0.435327  2.865830e+07  \n",
       "3  0.441 -0.435327  2.865830e+07  \n",
       "4  0.441 -0.435327  2.865830e+07  "
      ]
     },
     "execution_count": 83,
     "metadata": {},
     "output_type": "execute_result"
    }
   ],
   "source": [
    "#create our model df\n",
    "df_base = df\n",
    "df = df_base[['the_source', 'Code', 'Lat', 'Lon', 'Year', 'depth_m', 'Phylum', 'den', 'HDI', 'Voice', 'World_pop']].copy()\n",
    "df.head()"
   ]
  },
  {
   "cell_type": "code",
   "execution_count": 84,
   "metadata": {},
   "outputs": [],
   "source": [
    "# create a unique ID for each site\n",
    "\n",
    "df['Lat'] = df.Lat.astype(str) #convert to string to make unique ID\n",
    "df['Lon'] = df.Lon.astype(str)\n",
    "df = df.assign(id=(df['Lat'] + '_' + df['Lon']).astype('category').cat.codes)\n",
    "df['Lat'] = pd.to_numeric(df['Lat'], errors='coerce') #convert back to numeric\n",
    "df['Lon'] = pd.to_numeric(df['Lon'], errors='coerce')\n",
    "#df.head()\n",
    "#make depth a float\n",
    "df['depth_m'] = pd.to_numeric(df['depth_m'], errors='coerce')\n"
   ]
  },
  {
   "cell_type": "markdown",
   "metadata": {},
   "source": [
    "Next get an average density and depth for each site based on unique_id (Lat, Lon), Phylum and year bracket"
   ]
  },
  {
   "cell_type": "code",
   "execution_count": 85,
   "metadata": {},
   "outputs": [
    {
     "data": {
      "text/html": [
       "<div>\n",
       "<style scoped>\n",
       "    .dataframe tbody tr th:only-of-type {\n",
       "        vertical-align: middle;\n",
       "    }\n",
       "\n",
       "    .dataframe tbody tr th {\n",
       "        vertical-align: top;\n",
       "    }\n",
       "\n",
       "    .dataframe thead tr th {\n",
       "        text-align: left;\n",
       "    }\n",
       "\n",
       "    .dataframe thead tr:last-of-type th {\n",
       "        text-align: right;\n",
       "    }\n",
       "</style>\n",
       "<table border=\"1\" class=\"dataframe\">\n",
       "  <thead>\n",
       "    <tr>\n",
       "      <th></th>\n",
       "      <th></th>\n",
       "      <th></th>\n",
       "      <th>depth_m</th>\n",
       "      <th>den</th>\n",
       "    </tr>\n",
       "    <tr>\n",
       "      <th></th>\n",
       "      <th></th>\n",
       "      <th></th>\n",
       "      <th>mean</th>\n",
       "      <th>mean</th>\n",
       "    </tr>\n",
       "    <tr>\n",
       "      <th>id</th>\n",
       "      <th>Year</th>\n",
       "      <th>Phylum</th>\n",
       "      <th></th>\n",
       "      <th></th>\n",
       "    </tr>\n",
       "  </thead>\n",
       "  <tbody>\n",
       "    <tr>\n",
       "      <th rowspan=\"2\" valign=\"top\">0</th>\n",
       "      <th rowspan=\"2\" valign=\"top\">D</th>\n",
       "      <th>Cnidaria</th>\n",
       "      <td>16.850000</td>\n",
       "      <td>1.125000</td>\n",
       "    </tr>\n",
       "    <tr>\n",
       "      <th>Echinodermata</th>\n",
       "      <td>16.000000</td>\n",
       "      <td>0.250000</td>\n",
       "    </tr>\n",
       "    <tr>\n",
       "      <th rowspan=\"3\" valign=\"top\">1</th>\n",
       "      <th rowspan=\"3\" valign=\"top\">D</th>\n",
       "      <th>Cnidaria</th>\n",
       "      <td>16.233333</td>\n",
       "      <td>0.750000</td>\n",
       "    </tr>\n",
       "    <tr>\n",
       "      <th>Echinodermata</th>\n",
       "      <td>15.438462</td>\n",
       "      <td>2.267857</td>\n",
       "    </tr>\n",
       "    <tr>\n",
       "      <th>Mollusca</th>\n",
       "      <td>NaN</td>\n",
       "      <td>0.250000</td>\n",
       "    </tr>\n",
       "    <tr>\n",
       "      <th>2</th>\n",
       "      <th>D</th>\n",
       "      <th>Echinodermata</th>\n",
       "      <td>17.925000</td>\n",
       "      <td>0.812500</td>\n",
       "    </tr>\n",
       "    <tr>\n",
       "      <th rowspan=\"5\" valign=\"top\">3</th>\n",
       "      <th rowspan=\"5\" valign=\"top\">D</th>\n",
       "      <th>0</th>\n",
       "      <td>19.400000</td>\n",
       "      <td>0.250000</td>\n",
       "    </tr>\n",
       "    <tr>\n",
       "      <th>Arthropoda</th>\n",
       "      <td>16.940000</td>\n",
       "      <td>0.400000</td>\n",
       "    </tr>\n",
       "    <tr>\n",
       "      <th>Cnidaria</th>\n",
       "      <td>15.088889</td>\n",
       "      <td>0.611111</td>\n",
       "    </tr>\n",
       "    <tr>\n",
       "      <th>Echinodermata</th>\n",
       "      <td>16.734483</td>\n",
       "      <td>1.146552</td>\n",
       "    </tr>\n",
       "    <tr>\n",
       "      <th>Mollusca</th>\n",
       "      <td>15.835294</td>\n",
       "      <td>0.352941</td>\n",
       "    </tr>\n",
       "    <tr>\n",
       "      <th rowspan=\"2\" valign=\"top\">4</th>\n",
       "      <th rowspan=\"2\" valign=\"top\">D</th>\n",
       "      <th>Cnidaria</th>\n",
       "      <td>15.500000</td>\n",
       "      <td>1.000000</td>\n",
       "    </tr>\n",
       "    <tr>\n",
       "      <th>Echinodermata</th>\n",
       "      <td>15.500000</td>\n",
       "      <td>2.375000</td>\n",
       "    </tr>\n",
       "    <tr>\n",
       "      <th>5</th>\n",
       "      <th>D</th>\n",
       "      <th>Echinodermata</th>\n",
       "      <td>14.550000</td>\n",
       "      <td>0.312500</td>\n",
       "    </tr>\n",
       "  </tbody>\n",
       "</table>\n",
       "</div>"
      ],
      "text/plain": [
       "                         depth_m       den\n",
       "                            mean      mean\n",
       "id Year Phylum                            \n",
       "0  D    Cnidaria       16.850000  1.125000\n",
       "        Echinodermata  16.000000  0.250000\n",
       "1  D    Cnidaria       16.233333  0.750000\n",
       "        Echinodermata  15.438462  2.267857\n",
       "        Mollusca             NaN  0.250000\n",
       "2  D    Echinodermata  17.925000  0.812500\n",
       "3  D    0              19.400000  0.250000\n",
       "        Arthropoda     16.940000  0.400000\n",
       "        Cnidaria       15.088889  0.611111\n",
       "        Echinodermata  16.734483  1.146552\n",
       "        Mollusca       15.835294  0.352941\n",
       "4  D    Cnidaria       15.500000  1.000000\n",
       "        Echinodermata  15.500000  2.375000\n",
       "5  D    Echinodermata  14.550000  0.312500"
      ]
     },
     "execution_count": 85,
     "metadata": {},
     "output_type": "execute_result"
    }
   ],
   "source": [
    "# do I actually want to do this??? Not so sure :) \n",
    "\n",
    "df.dropna(subset=['Code'], inplace=True) #drop nulls in Code\n",
    "#df.isnull().sum() #the total null values for each column\n",
    "dfagg = df.groupby(['id', 'Year', 'Phylum']).agg({'depth_m': ['mean'],\n",
    "                                         'den': ['mean']})\n",
    "dfagg"
   ]
  },
  {
   "cell_type": "markdown",
   "metadata": {},
   "source": [
    "# Scales"
   ]
  },
  {
   "cell_type": "code",
   "execution_count": 86,
   "metadata": {},
   "outputs": [],
   "source": [
    "# Function to standardize covariates\n",
    "def stdize(x):\n",
    "    return (x-np.mean(x))/(2*np.std(x))"
   ]
  },
  {
   "cell_type": "code",
   "execution_count": 87,
   "metadata": {},
   "outputs": [
    {
     "data": {
      "text/plain": [
       "'\\n# Return list of unique items and an index of their position in L\\ndef indexall(L):\\n    poo = []\\n    for p in L:\\n        if not p in poo:\\n            poo.append(p)\\n    Ix = np.array([poo.index(p) for p in L])\\n    return poo,Ix\\n\\n# Return list of unique items and an index of their position in long, relative to short\\ndef subindexall(short,long):\\n    poo = []\\n    out = []\\n    for s,l in zip(short,long):\\n        if not l in poo:\\n            poo.append(l)\\n            out.append(s)\\n    return indexall(out) \\n'"
      ]
     },
     "execution_count": 87,
     "metadata": {},
     "output_type": "execute_result"
    }
   ],
   "source": [
    "\"\"\"\n",
    "# Return list of unique items and an index of their position in L\n",
    "def indexall(L):\n",
    "    poo = []\n",
    "    for p in L:\n",
    "        if not p in poo:\n",
    "            poo.append(p)\n",
    "    Ix = np.array([poo.index(p) for p in L])\n",
    "    return poo,Ix\n",
    "\n",
    "# Return list of unique items and an index of their position in long, relative to short\n",
    "def subindexall(short,long):\n",
    "    poo = []\n",
    "    out = []\n",
    "    for s,l in zip(short,long):\n",
    "        if not l in poo:\n",
    "            poo.append(l)\n",
    "            out.append(s)\n",
    "    return indexall(out) \n",
    "\"\"\""
   ]
  },
  {
   "cell_type": "code",
   "execution_count": 88,
   "metadata": {},
   "outputs": [
    {
     "data": {
      "text/plain": [
       "100"
      ]
     },
     "execution_count": 88,
     "metadata": {},
     "output_type": "execute_result"
    }
   ],
   "source": [
    "# Isolate inverts density\n",
    "density = df.den.values\n",
    "# Create log(den) response variable\n",
    "density = density+min(density[density!=0])\n",
    "# Create log(biomass) response variable\n",
    "ldensity = np.log(density + 1)\n",
    "#ldensity = np.log(density+min(density[density!=0]))\n",
    "# Total number of observations\n",
    "nobs = len(ldensity)\n",
    "nobs"
   ]
  },
  {
   "cell_type": "code",
   "execution_count": 89,
   "metadata": {},
   "outputs": [],
   "source": [
    "df['den'] = ldensity"
   ]
  },
  {
   "cell_type": "code",
   "execution_count": 90,
   "metadata": {},
   "outputs": [
    {
     "data": {
      "text/plain": [
       "(array([53., 15., 10.,  9.,  5.,  2.,  2.,  2.,  0.,  2.]),\n",
       " array([0.22314355, 0.45138179, 0.67962003, 0.90785827, 1.13609651,\n",
       "        1.36433474, 1.59257298, 1.82081122, 2.04904946, 2.2772877 ,\n",
       "        2.50552594]),\n",
       " <a list of 10 Patch objects>)"
      ]
     },
     "execution_count": 90,
     "metadata": {},
     "output_type": "execute_result"
    },
    {
     "data": {
      "image/png": "[encoded data removed]",
      "text/plain": [
       "<Figure size 432x288 with 1 Axes>"
      ]
     },
     "metadata": {
      "needs_background": "light"
     },
     "output_type": "display_data"
    }
   ],
   "source": [
    "plt.hist(df.den)\n",
    "\n",
    "\n",
    "#looks super skewed but much better than when not logged "
   ]
  },
  {
   "cell_type": "markdown",
   "metadata": {},
   "source": [
    "just going to work with environmental and large scale for now\n",
    "\n",
    "Environmental scale - which is the scale at which the observations are made (usually a transect), and includes covariates relating to habitat type and protection from fishing (if any);\n",
    "\n",
    "Social-site scale - defined by 4km radius clusters that include covariates relating to local human populations and general reef conditions such as storm activity, climate stress, and markets;\n",
    "\n",
    "Larger scale - defined by more broad-scale social conditions that typically map onto countries, such as total fish landings and human development index ratings."
   ]
  },
  {
   "cell_type": "code",
   "execution_count": 91,
   "metadata": {},
   "outputs": [],
   "source": [
    "#Environmental scale\n",
    "\n",
    "# Depth - turn into ordinal values\n",
    "\n",
    "tmp = np.array(df.depth_m.values) #convert to an array\n",
    "tmp = tmp.astype(int)\n",
    "tmp = np.where(tmp <= 4, 0, tmp)\n",
    "tmp = np.where(((tmp >= 5) & (tmp <=10)), 1, tmp)\n",
    "tmp = np.where(tmp >=11, 2, tmp)\n",
    "df['depth_m'] = tmp\n",
    "\n",
    "#convert to ordinal shallow = 0, mid = 1, deep = 2\n",
    "\n",
    "#protection Status --- ignored for now\n",
    "\n",
    "\n",
    "#productivity -- - ignored for now \n",
    "\n",
    "#data provider -- this is where addressed in intial analysis\n",
    "#Provider,Ip = indexall(df.the_source.values)\n",
    "#nprovider = len(Provider)"
   ]
  },
  {
   "cell_type": "markdown",
   "metadata": {},
   "source": [
    "# Need to develop 4km social sites / reefs"
   ]
  },
  {
   "cell_type": "markdown",
   "metadata": {},
   "source": [
    "Next is social site scale "
   ]
  },
  {
   "cell_type": "code",
   "execution_count": 92,
   "metadata": {},
   "outputs": [
    {
     "data": {
      "text/plain": [
       "\"\\n#first cluster sites together to make a 'reef'\\n\\n\\n# Index observations to social-site scale\\nSSite,Iss = indexall(serfdata.SocialSIte4km.values)\\n# Number of social-sites\\nnsites = len(SSite)\\nnsites #how many sites\\n# Number of environmental observations per social-site\\nsstotals = np.array([sum(Iss==i) for i in np.unique(Iss)])\\n\\n\\n# Use Python list indexing to create social-site indexing array\\nrindx = np.array([[x for x in Iss].index(i) for i in xrange(nsites)])\\n\""
      ]
     },
     "execution_count": 92,
     "metadata": {},
     "output_type": "execute_result"
    }
   ],
   "source": [
    "#skipped for now\n",
    "\"\"\"\n",
    "#first cluster sites together to make a 'reef'\n",
    "\n",
    "\n",
    "# Index observations to social-site scale\n",
    "SSite,Iss = indexall(serfdata.SocialSIte4km.values)\n",
    "# Number of social-sites\n",
    "nsites = len(SSite)\n",
    "nsites #how many sites\n",
    "# Number of environmental observations per social-site\n",
    "sstotals = np.array([sum(Iss==i) for i in np.unique(Iss)])\n",
    "\n",
    "\n",
    "# Use Python list indexing to create social-site indexing array\n",
    "rindx = np.array([[x for x in Iss].index(i) for i in xrange(nsites)])\n",
    "\"\"\""
   ]
  },
  {
   "cell_type": "code",
   "execution_count": 93,
   "metadata": {},
   "outputs": [],
   "source": [
    "#Skipped for now\n",
    "\n",
    "\n",
    "\n",
    "#regional population density\n",
    "\n",
    "#Local Population density\n",
    "\n",
    "#Atoll\n",
    "\n",
    "#Climate stress\n",
    "\n",
    "#productivity\n",
    "\n",
    "#Storms\n",
    "\n",
    "#regional pop growth\n",
    "\n",
    "#linear distance to market\n",
    "\n",
    "#Gravity to cities\n",
    "\n",
    "#Gravity NP\n",
    "\n",
    "#Gravity total"
   ]
  },
  {
   "cell_type": "markdown",
   "metadata": {},
   "source": [
    "\n",
    "The next step is to create some larger-scale indexing, so the social-site scale parameters can be matched to the proper larger scale group:"
   ]
  },
  {
   "cell_type": "code",
   "execution_count": 94,
   "metadata": {},
   "outputs": [
    {
     "data": {
      "text/plain": [
       "\"\\nLarger, IL = subindexall(df.Code.unique(), df.id.unique()) # i have now switched it to number of nations\\nnlarger = len(Larger) # how many nations?\\nprint(nlarger) #it prints out as two... I wonder if that's right... maybe meant to be the variables...\\n\""
      ]
     },
     "execution_count": 94,
     "metadata": {},
     "output_type": "execute_result"
    }
   ],
   "source": [
    "#so for me for now I can skip as I have \n",
    "#no social scale to apply to large scale\n",
    "\n",
    "\n",
    "# Indexing to map social-site scale onto larger scale\n",
    "\"\"\"\n",
    "Larger,Il = subindexall(df.Larger.values,df.SocialSIte4km.values) \n",
    "nlarger = len(Larger) # how many nations?\n",
    "print(nlarger)\n",
    "\"\"\"\n",
    "#trying to use ID for social site rn...\n",
    "\"\"\"\n",
    "Larger, IL = subindexall(df.Code.unique(), df.id.unique()) # i have now switched it to number of nations\n",
    "nlarger = len(Larger) # how many nations?\n",
    "print(nlarger) #it prints out as two... I wonder if that's right... maybe meant to be the variables...\n",
    "\"\"\""
   ]
  },
  {
   "cell_type": "code",
   "execution_count": 95,
   "metadata": {},
   "outputs": [
    {
     "data": {
      "text/html": [
       "<div>\n",
       "<style scoped>\n",
       "    .dataframe tbody tr th:only-of-type {\n",
       "        vertical-align: middle;\n",
       "    }\n",
       "\n",
       "    .dataframe tbody tr th {\n",
       "        vertical-align: top;\n",
       "    }\n",
       "\n",
       "    .dataframe thead th {\n",
       "        text-align: right;\n",
       "    }\n",
       "</style>\n",
       "<table border=\"1\" class=\"dataframe\">\n",
       "  <thead>\n",
       "    <tr style=\"text-align: right;\">\n",
       "      <th></th>\n",
       "      <th>the_source</th>\n",
       "      <th>Code</th>\n",
       "      <th>Lat</th>\n",
       "      <th>Lon</th>\n",
       "      <th>Year</th>\n",
       "      <th>depth_m</th>\n",
       "      <th>Phylum</th>\n",
       "      <th>den</th>\n",
       "      <th>HDI</th>\n",
       "      <th>Voice</th>\n",
       "      <th>World_pop</th>\n",
       "      <th>id</th>\n",
       "    </tr>\n",
       "  </thead>\n",
       "  <tbody>\n",
       "    <tr>\n",
       "      <th>0</th>\n",
       "      <td>LTO</td>\n",
       "      <td>MOZ</td>\n",
       "      <td>-24.067983</td>\n",
       "      <td>35.053267</td>\n",
       "      <td>D</td>\n",
       "      <td>2</td>\n",
       "      <td>Echinodermata</td>\n",
       "      <td>0.405465</td>\n",
       "      <td>0.441</td>\n",
       "      <td>-0.435327</td>\n",
       "      <td>2.865830e+07</td>\n",
       "      <td>1</td>\n",
       "    </tr>\n",
       "    <tr>\n",
       "      <th>1</th>\n",
       "      <td>LTO</td>\n",
       "      <td>MOZ</td>\n",
       "      <td>-24.067983</td>\n",
       "      <td>35.053267</td>\n",
       "      <td>D</td>\n",
       "      <td>2</td>\n",
       "      <td>Echinodermata</td>\n",
       "      <td>2.374906</td>\n",
       "      <td>0.441</td>\n",
       "      <td>-0.435327</td>\n",
       "      <td>2.865830e+07</td>\n",
       "      <td>1</td>\n",
       "    </tr>\n",
       "    <tr>\n",
       "      <th>6</th>\n",
       "      <td>LTO</td>\n",
       "      <td>MOZ</td>\n",
       "      <td>-24.067983</td>\n",
       "      <td>35.053267</td>\n",
       "      <td>D</td>\n",
       "      <td>2</td>\n",
       "      <td>Echinodermata</td>\n",
       "      <td>0.405465</td>\n",
       "      <td>0.441</td>\n",
       "      <td>-0.435327</td>\n",
       "      <td>2.865830e+07</td>\n",
       "      <td>1</td>\n",
       "    </tr>\n",
       "    <tr>\n",
       "      <th>7</th>\n",
       "      <td>LTO</td>\n",
       "      <td>MOZ</td>\n",
       "      <td>-24.067983</td>\n",
       "      <td>35.053267</td>\n",
       "      <td>D</td>\n",
       "      <td>2</td>\n",
       "      <td>Echinodermata</td>\n",
       "      <td>0.405465</td>\n",
       "      <td>0.441</td>\n",
       "      <td>-0.435327</td>\n",
       "      <td>2.865830e+07</td>\n",
       "      <td>1</td>\n",
       "    </tr>\n",
       "    <tr>\n",
       "      <th>8</th>\n",
       "      <td>LTO</td>\n",
       "      <td>MOZ</td>\n",
       "      <td>-24.067983</td>\n",
       "      <td>35.053267</td>\n",
       "      <td>D</td>\n",
       "      <td>2</td>\n",
       "      <td>Echinodermata</td>\n",
       "      <td>1.832581</td>\n",
       "      <td>0.441</td>\n",
       "      <td>-0.435327</td>\n",
       "      <td>2.865830e+07</td>\n",
       "      <td>1</td>\n",
       "    </tr>\n",
       "    <tr>\n",
       "      <th>13</th>\n",
       "      <td>LTO</td>\n",
       "      <td>MOZ</td>\n",
       "      <td>-24.067983</td>\n",
       "      <td>35.053267</td>\n",
       "      <td>D</td>\n",
       "      <td>2</td>\n",
       "      <td>Cnidaria</td>\n",
       "      <td>0.405465</td>\n",
       "      <td>0.441</td>\n",
       "      <td>-0.435327</td>\n",
       "      <td>2.865830e+07</td>\n",
       "      <td>1</td>\n",
       "    </tr>\n",
       "    <tr>\n",
       "      <th>14</th>\n",
       "      <td>LTO</td>\n",
       "      <td>MOZ</td>\n",
       "      <td>-24.067983</td>\n",
       "      <td>35.053267</td>\n",
       "      <td>D</td>\n",
       "      <td>2</td>\n",
       "      <td>Cnidaria</td>\n",
       "      <td>0.916291</td>\n",
       "      <td>0.441</td>\n",
       "      <td>-0.435327</td>\n",
       "      <td>2.865830e+07</td>\n",
       "      <td>1</td>\n",
       "    </tr>\n",
       "    <tr>\n",
       "      <th>15</th>\n",
       "      <td>LTO</td>\n",
       "      <td>MOZ</td>\n",
       "      <td>-24.067983</td>\n",
       "      <td>35.053267</td>\n",
       "      <td>D</td>\n",
       "      <td>2</td>\n",
       "      <td>Echinodermata</td>\n",
       "      <td>2.505526</td>\n",
       "      <td>0.441</td>\n",
       "      <td>-0.435327</td>\n",
       "      <td>2.865830e+07</td>\n",
       "      <td>1</td>\n",
       "    </tr>\n",
       "    <tr>\n",
       "      <th>16</th>\n",
       "      <td>LTO</td>\n",
       "      <td>MOZ</td>\n",
       "      <td>-24.067983</td>\n",
       "      <td>35.053267</td>\n",
       "      <td>D</td>\n",
       "      <td>2</td>\n",
       "      <td>Cnidaria</td>\n",
       "      <td>0.693147</td>\n",
       "      <td>0.441</td>\n",
       "      <td>-0.435327</td>\n",
       "      <td>2.865830e+07</td>\n",
       "      <td>1</td>\n",
       "    </tr>\n",
       "    <tr>\n",
       "      <th>42</th>\n",
       "      <td>LTO</td>\n",
       "      <td>MOZ</td>\n",
       "      <td>-24.067983</td>\n",
       "      <td>35.053267</td>\n",
       "      <td>D</td>\n",
       "      <td>2</td>\n",
       "      <td>Echinodermata</td>\n",
       "      <td>0.405465</td>\n",
       "      <td>0.441</td>\n",
       "      <td>-0.435327</td>\n",
       "      <td>2.865830e+07</td>\n",
       "      <td>1</td>\n",
       "    </tr>\n",
       "    <tr>\n",
       "      <th>43</th>\n",
       "      <td>LTO</td>\n",
       "      <td>MOZ</td>\n",
       "      <td>-24.067983</td>\n",
       "      <td>35.053267</td>\n",
       "      <td>D</td>\n",
       "      <td>2</td>\n",
       "      <td>Echinodermata</td>\n",
       "      <td>1.178655</td>\n",
       "      <td>0.441</td>\n",
       "      <td>-0.435327</td>\n",
       "      <td>2.865830e+07</td>\n",
       "      <td>1</td>\n",
       "    </tr>\n",
       "    <tr>\n",
       "      <th>72</th>\n",
       "      <td>LTO</td>\n",
       "      <td>MOZ</td>\n",
       "      <td>-24.067983</td>\n",
       "      <td>35.053267</td>\n",
       "      <td>D</td>\n",
       "      <td>0</td>\n",
       "      <td>Mollusca</td>\n",
       "      <td>0.405465</td>\n",
       "      <td>0.441</td>\n",
       "      <td>-0.435327</td>\n",
       "      <td>2.865830e+07</td>\n",
       "      <td>1</td>\n",
       "    </tr>\n",
       "    <tr>\n",
       "      <th>73</th>\n",
       "      <td>LTO</td>\n",
       "      <td>MOZ</td>\n",
       "      <td>-24.067983</td>\n",
       "      <td>35.053267</td>\n",
       "      <td>D</td>\n",
       "      <td>0</td>\n",
       "      <td>Echinodermata</td>\n",
       "      <td>0.405465</td>\n",
       "      <td>0.441</td>\n",
       "      <td>-0.435327</td>\n",
       "      <td>2.865830e+07</td>\n",
       "      <td>1</td>\n",
       "    </tr>\n",
       "    <tr>\n",
       "      <th>92</th>\n",
       "      <td>LTO</td>\n",
       "      <td>MOZ</td>\n",
       "      <td>-24.067983</td>\n",
       "      <td>35.053267</td>\n",
       "      <td>D</td>\n",
       "      <td>2</td>\n",
       "      <td>Echinodermata</td>\n",
       "      <td>0.559616</td>\n",
       "      <td>0.441</td>\n",
       "      <td>-0.435327</td>\n",
       "      <td>2.865830e+07</td>\n",
       "      <td>1</td>\n",
       "    </tr>\n",
       "    <tr>\n",
       "      <th>93</th>\n",
       "      <td>LTO</td>\n",
       "      <td>MOZ</td>\n",
       "      <td>-24.067983</td>\n",
       "      <td>35.053267</td>\n",
       "      <td>D</td>\n",
       "      <td>2</td>\n",
       "      <td>Echinodermata</td>\n",
       "      <td>1.098612</td>\n",
       "      <td>0.441</td>\n",
       "      <td>-0.435327</td>\n",
       "      <td>2.865830e+07</td>\n",
       "      <td>1</td>\n",
       "    </tr>\n",
       "    <tr>\n",
       "      <th>94</th>\n",
       "      <td>LTO</td>\n",
       "      <td>MOZ</td>\n",
       "      <td>-24.067983</td>\n",
       "      <td>35.053267</td>\n",
       "      <td>D</td>\n",
       "      <td>2</td>\n",
       "      <td>Echinodermata</td>\n",
       "      <td>0.405465</td>\n",
       "      <td>0.441</td>\n",
       "      <td>-0.435327</td>\n",
       "      <td>2.865830e+07</td>\n",
       "      <td>1</td>\n",
       "    </tr>\n",
       "    <tr>\n",
       "      <th>95</th>\n",
       "      <td>LTO</td>\n",
       "      <td>MOZ</td>\n",
       "      <td>-24.067983</td>\n",
       "      <td>35.053267</td>\n",
       "      <td>D</td>\n",
       "      <td>2</td>\n",
       "      <td>Echinodermata</td>\n",
       "      <td>0.405465</td>\n",
       "      <td>0.441</td>\n",
       "      <td>-0.435327</td>\n",
       "      <td>2.865830e+07</td>\n",
       "      <td>1</td>\n",
       "    </tr>\n",
       "    <tr>\n",
       "      <th>96</th>\n",
       "      <td>LTO</td>\n",
       "      <td>MOZ</td>\n",
       "      <td>-24.067983</td>\n",
       "      <td>35.053267</td>\n",
       "      <td>D</td>\n",
       "      <td>2</td>\n",
       "      <td>Echinodermata</td>\n",
       "      <td>0.405465</td>\n",
       "      <td>0.441</td>\n",
       "      <td>-0.435327</td>\n",
       "      <td>2.865830e+07</td>\n",
       "      <td>1</td>\n",
       "    </tr>\n",
       "  </tbody>\n",
       "</table>\n",
       "</div>"
      ],
      "text/plain": [
       "   the_source Code        Lat        Lon Year  depth_m         Phylum  \\\n",
       "0         LTO  MOZ -24.067983  35.053267    D        2  Echinodermata   \n",
       "1         LTO  MOZ -24.067983  35.053267    D        2  Echinodermata   \n",
       "6         LTO  MOZ -24.067983  35.053267    D        2  Echinodermata   \n",
       "7         LTO  MOZ -24.067983  35.053267    D        2  Echinodermata   \n",
       "8         LTO  MOZ -24.067983  35.053267    D        2  Echinodermata   \n",
       "13        LTO  MOZ -24.067983  35.053267    D        2       Cnidaria   \n",
       "14        LTO  MOZ -24.067983  35.053267    D        2       Cnidaria   \n",
       "15        LTO  MOZ -24.067983  35.053267    D        2  Echinodermata   \n",
       "16        LTO  MOZ -24.067983  35.053267    D        2       Cnidaria   \n",
       "42        LTO  MOZ -24.067983  35.053267    D        2  Echinodermata   \n",
       "43        LTO  MOZ -24.067983  35.053267    D        2  Echinodermata   \n",
       "72        LTO  MOZ -24.067983  35.053267    D        0       Mollusca   \n",
       "73        LTO  MOZ -24.067983  35.053267    D        0  Echinodermata   \n",
       "92        LTO  MOZ -24.067983  35.053267    D        2  Echinodermata   \n",
       "93        LTO  MOZ -24.067983  35.053267    D        2  Echinodermata   \n",
       "94        LTO  MOZ -24.067983  35.053267    D        2  Echinodermata   \n",
       "95        LTO  MOZ -24.067983  35.053267    D        2  Echinodermata   \n",
       "96        LTO  MOZ -24.067983  35.053267    D        2  Echinodermata   \n",
       "\n",
       "         den    HDI     Voice     World_pop  id  \n",
       "0   0.405465  0.441 -0.435327  2.865830e+07   1  \n",
       "1   2.374906  0.441 -0.435327  2.865830e+07   1  \n",
       "6   0.405465  0.441 -0.435327  2.865830e+07   1  \n",
       "7   0.405465  0.441 -0.435327  2.865830e+07   1  \n",
       "8   1.832581  0.441 -0.435327  2.865830e+07   1  \n",
       "13  0.405465  0.441 -0.435327  2.865830e+07   1  \n",
       "14  0.916291  0.441 -0.435327  2.865830e+07   1  \n",
       "15  2.505526  0.441 -0.435327  2.865830e+07   1  \n",
       "16  0.693147  0.441 -0.435327  2.865830e+07   1  \n",
       "42  0.405465  0.441 -0.435327  2.865830e+07   1  \n",
       "43  1.178655  0.441 -0.435327  2.865830e+07   1  \n",
       "72  0.405465  0.441 -0.435327  2.865830e+07   1  \n",
       "73  0.405465  0.441 -0.435327  2.865830e+07   1  \n",
       "92  0.559616  0.441 -0.435327  2.865830e+07   1  \n",
       "93  1.098612  0.441 -0.435327  2.865830e+07   1  \n",
       "94  0.405465  0.441 -0.435327  2.865830e+07   1  \n",
       "95  0.405465  0.441 -0.435327  2.865830e+07   1  \n",
       "96  0.405465  0.441 -0.435327  2.865830e+07   1  "
      ]
     },
     "execution_count": 95,
     "metadata": {},
     "output_type": "execute_result"
    }
   ],
   "source": [
    "df[df.id == 1] #just making sure df and values are all good"
   ]
  },
  {
   "cell_type": "markdown",
   "metadata": {},
   "source": [
    "Then set up an indexing array to pluck out a single value for each larger scale covariate:"
   ]
  },
  {
   "cell_type": "code",
   "execution_count": 96,
   "metadata": {
    "scrolled": true
   },
   "outputs": [
    {
     "data": {
      "text/plain": [
       "\"\\ntmpL,Ilx = indexall(df.Code.values)  #this might meant to be a list of the covariates or countries?\\nlsite = [x for x in Ilx]\\nlindx = np.array([lsite.index(i) for i in range(nlarger)])\\nlindx\\n#just x range doesn't work rn because python 2 \\n#need to understand this array below\\n\""
      ]
     },
     "execution_count": 96,
     "metadata": {},
     "output_type": "execute_result"
    }
   ],
   "source": [
    "# Larger-scale indexing for data\n",
    "\"\"\"\n",
    ".values() takes the values of a dictionary... whcih means I need \n",
    " countries and a bunch of values for each country, \n",
    " but why is it in this df then??? and not its own\n",
    " \n",
    " So I will set up a dictionary and see how it works out - but after\n",
    " we seperate each covariate....so I'm guessing it's just countries\n",
    " \n",
    "\"\"\"\n",
    "\n",
    "#len(psdata.index.unique())\n",
    "\"\"\"\n",
    "tmpL,Ilx = indexall(df.Code.values)  #this might meant to be a list of the covariates or countries?\n",
    "lsite = [x for x in Ilx]\n",
    "lindx = np.array([lsite.index(i) for i in range(nlarger)])\n",
    "lindx\n",
    "#just x range doesn't work rn because python 2 \n",
    "#need to understand this array below\n",
    "\"\"\""
   ]
  },
  {
   "cell_type": "code",
   "execution_count": 97,
   "metadata": {},
   "outputs": [],
   "source": [
    "#large scale\n",
    "#So i might need an average biomass for each country?? is that how this works?\n",
    "#but the pymc3 practice didn't do this... they just used merge\n",
    "\n",
    "\n",
    "#world Population\n",
    "#lg_pop = stdize(np.log(df.World_pop.values+1))\n",
    "#df['World_pop'] = lg_pop\n",
    "\n",
    "df['World_pop'] = np.log(df['World_pop']+1)\n",
    "df['World_pop'] = stdize(df['World_pop'])\n",
    "\n",
    "\n",
    "#gov_auto = np.array(serfdata.Governance_autonomy.values[lindx])\n",
    "#gov_auto = 1*(gov_auto==\"Independent\")\n",
    "\n",
    "\n",
    "#HDI\n",
    "#HDI = stdize(np.array(df.HDI.values))\n",
    "#df['HDI'] = HDI\n",
    "df['HDI'] = np.log(df['HDI']+1)\n",
    "df['HDI'] = stdize(df['HDI'])\n",
    "\n",
    "#something def wrong with HDI\n",
    "\n",
    "#need to make sure lindx is right!! \n",
    "\n",
    "#Voice\n",
    "#Voice = stdize(np.array(df.Voice.values))\n",
    "#df['Voice'] = Voice\n",
    "df['Voice'] = np.log(df['Voice']+1)\n",
    "df['Voice'] = stdize(df['Voice'])\n",
    "\n",
    "\n",
    "\n",
    "#array method did not worked...."
   ]
  },
  {
   "cell_type": "code",
   "execution_count": 98,
   "metadata": {},
   "outputs": [
    {
     "data": {
      "text/plain": [
       "the_source      0\n",
       "Code            0\n",
       "Lat             0\n",
       "Lon             0\n",
       "Year            0\n",
       "depth_m         0\n",
       "Phylum          4\n",
       "den             0\n",
       "HDI           100\n",
       "Voice           0\n",
       "World_pop       0\n",
       "id              0\n",
       "dtype: int64"
      ]
     },
     "execution_count": 98,
     "metadata": {},
     "output_type": "execute_result"
    }
   ],
   "source": [
    "df1 = df\n",
    "df1.isnull().sum()"
   ]
  },
  {
   "cell_type": "markdown",
   "metadata": {},
   "source": [
    "We also need a lookup table (dict) for each unique county, for indexing."
   ]
  },
  {
   "cell_type": "code",
   "execution_count": 99,
   "metadata": {},
   "outputs": [],
   "source": [
    "df.Code = df.Code.map(str.strip) # make county a string\n",
    "mn_Codes = df.Code.unique() #get unique country codes\n",
    "Code_len = len(mn_Codes) #get the length of that\n",
    "#i guess a way to look things up...\n",
    "Code_lookup = dict(zip(mn_Codes, range(len(mn_Codes)))) \n",
    "n_countries = mn_Codes.shape[0]\n",
    "country = df.Code.values"
   ]
  },
  {
   "cell_type": "markdown",
   "metadata": {},
   "source": [
    "Finally, create local copies of variables."
   ]
  },
  {
   "cell_type": "code",
   "execution_count": 100,
   "metadata": {},
   "outputs": [],
   "source": [
    "country = df['Country_code'] = df.Code.replace(Code_lookup).values\n",
    "density = df.den\n",
    "depth = df.depth_m.values"
   ]
  },
  {
   "cell_type": "markdown",
   "metadata": {},
   "source": [
    "# BHM"
   ]
  },
  {
   "cell_type": "code",
   "execution_count": 101,
   "metadata": {},
   "outputs": [
    {
     "data": {
      "image/png": "[encoded data removed]",
      "text/plain": [
       "<Figure size 432x288 with 1 Axes>"
      ]
     },
     "metadata": {
      "needs_background": "light"
     },
     "output_type": "display_data"
    }
   ],
   "source": [
    "df.den.apply(lambda x: np.log(x+0.1)).hist(bins=25);\n",
    "#this looks kind of awful ...\n",
    "#maybe a solution could be to do the averages outlined above?\n",
    "#also still some negatives... how??"
   ]
  },
  {
   "cell_type": "code",
   "execution_count": 72,
   "metadata": {},
   "outputs": [],
   "source": [
    "from pymc3 import Model, sample, Normal, HalfCauchy, Uniform\n",
    "\n",
    "depth = df.depth_m.values #site level\n",
    "log_den = df.den.values #made earlier?\n",
    "\n",
    "with Model() as pooled_model:\n",
    "\n",
    "    beta = Normal('beta', 0, sigma=1e5, shape=2)\n",
    "    sigma = HalfCauchy('sigma', 5)\n",
    "\n",
    "    theta = beta[0] + beta[1]*depth\n",
    "\n",
    "    y = Normal('y', theta, sigma=sigma, observed=log_den)"
   ]
  },
  {
   "cell_type": "code",
   "execution_count": 73,
   "metadata": {},
   "outputs": [],
   "source": [
    "#single variate partial pooling (countries)\n",
    "with Model() as partial_pooling:\n",
    "\n",
    "    # Priors\n",
    "    mu_a = Normal('mu_a', mu=0., sigma=1e5)\n",
    "    sigma_a = HalfCauchy('sigma_a', 5) #think this is sampling method\n",
    "\n",
    "    # Random intercepts\n",
    "    a = Normal('a', mu=mu_a, sigma=sigma_a, shape=Code_len)\n",
    "\n",
    "    # Model error\n",
    "    sigma_y = HalfCauchy('sigma_y',5)\n",
    "\n",
    "    # Expected value\n",
    "    y_hat = a[country]\n",
    "\n",
    "    # Data likelihood\n",
    "    y_like = Normal('y_like', mu=y_hat, sigma=sigma_y, observed=log_den)\n"
   ]
  },
  {
   "cell_type": "code",
   "execution_count": 33,
   "metadata": {},
   "outputs": [
    {
     "name": "stderr",
     "output_type": "stream",
     "text": [
      "Auto-assigning NUTS sampler...\n",
      "Initializing NUTS using jitter+adapt_diag...\n",
      "Multiprocess sampling (4 chains in 4 jobs)\n",
      "NUTS: [sigma_y, a, sigma_a, mu_a]\n",
      "Sampling 4 chains, 292 divergences: 100%|██████████████████████████████████████| 8000/8000 [00:17<00:00, 449.86draws/s]\n",
      "There were 45 divergences after tuning. Increase `target_accept` or reparameterize.\n",
      "There were 28 divergences after tuning. Increase `target_accept` or reparameterize.\n",
      "There were 29 divergences after tuning. Increase `target_accept` or reparameterize.\n",
      "There were 190 divergences after tuning. Increase `target_accept` or reparameterize.\n",
      "The acceptance probability does not match the target. It is 0.44640462240111883, but should be close to 0.8. Try to increase the number of tuning steps.\n",
      "The estimated number of effective samples is smaller than 200 for some parameters.\n"
     ]
    }
   ],
   "source": [
    "with partial_pooling:\n",
    "    partial_pooling_trace = sample(1000, tune=1000)"
   ]
  },
  {
   "cell_type": "code",
   "execution_count": null,
   "metadata": {},
   "outputs": [],
   "source": [
    "sample_trace = partial_pooling_trace['a']\n",
    "\n",
    "fig, axes = plt.subplots(1, 2, figsize=(14,6), sharex=True, sharey=True)\n",
    "samples, Countries = sample_trace.shape\n",
    "jitter = np.random.normal(scale=0.1, size=counties)\n",
    "\n",
    "n_country = df.groupby('Country_code')['id'].count()\n",
    "unpooled_means = srrs_mn.groupby('Country_code')['log_radon'].mean()\n",
    "unpooled_sd = srrs_mn.groupby('county')['log_radon'].std()\n",
    "unpooled = pd.DataFrame({'n':n_county, 'm':unpooled_means, 'sd':unpooled_sd})\n",
    "unpooled['se'] = unpooled.sd/np.sqrt(unpooled.n)\n",
    "\n",
    "axes[0].plot(unpooled.n + jitter, unpooled.m, 'b.')\n",
    "for j, row in zip(jitter, unpooled.iterrows()):\n",
    "    name, dat = row\n",
    "    axes[0].plot([dat.n+j,dat.n+j], [dat.m-dat.se, dat.m+dat.se], 'b-')\n",
    "axes[0].set_xscale('log')\n",
    "axes[0].hlines(sample_trace.mean(), 0.9, 100, linestyles='--')\n",
    "\n",
    "\n",
    "samples, counties = sample_trace.shape\n",
    "means = sample_trace.mean(axis=0)\n",
    "sd = sample_trace.std(axis=0)\n",
    "axes[1].scatter(n_county.values + jitter, means)\n",
    "axes[1].set_xscale('log')\n",
    "axes[1].set_xlim(1,100)\n",
    "axes[1].set_ylim(0, 3)\n",
    "axes[1].hlines(sample_trace.mean(), 0.9, 100, linestyles='--')\n",
    "for j,n,m,s in zip(jitter, n_county.values, means, sd):\n",
    "    axes[1].plot([n+j]*2, [m-s, m+s], 'b-')"
   ]
  },
  {
   "cell_type": "code",
   "execution_count": 35,
   "metadata": {},
   "outputs": [
    {
     "data": {
      "text/plain": [
       "\"\\nfrom pymc3 import Deterministic\\nfrom pymc3 import Model, sample, Normal, HalfCauchy, Uniform\\nwith Model() as hierarchical_intercept:\\n\\n    # Priors\\n    sigma_a = HalfCauchy('sigma_a', 5)\\n\\n    # County uranium model for slope\\n    gamma_0 = Normal('gamma_0', mu=0., sigma=1e5)\\n    gamma_1 = Normal('gamma_1', mu=0., sigma=1e5)\\n\\n\\n    # Uranium model for intercept\\n    mu_a = gamma_0 + gamma_1*u\\n    # County variation not explained by uranium\\n    eps_a = Normal('eps_a', mu=0, sigma=sigma_a, shape=counties)\\n    a = Deterministic('a', mu_a + eps_a[county])\\n\\n    # Common slope\\n    b = Normal('b', mu=0., sigma=1e5)\\n\\n    # Model error\\n    sigma_y = Uniform('sigma_y', lower=0, upper=100)\\n\\n    # Expected value\\n    y_hat = a + b * floor_measure\\n\\n    # Data likelihood\\n    y_like = Normal('y_like', mu=y_hat, sigma=sigma_y, observed=log_radon)\\n\""
      ]
     },
     "execution_count": 35,
     "metadata": {},
     "output_type": "execute_result"
    }
   ],
   "source": [
    "#deterministic radon example\n",
    "\n",
    "\"\"\"\n",
    "from pymc3 import Deterministic\n",
    "from pymc3 import Model, sample, Normal, HalfCauchy, Uniform\n",
    "with Model() as hierarchical_intercept:\n",
    "\n",
    "    # Priors\n",
    "    sigma_a = HalfCauchy('sigma_a', 5)\n",
    "\n",
    "    # County uranium model for slope\n",
    "    gamma_0 = Normal('gamma_0', mu=0., sigma=1e5)\n",
    "    gamma_1 = Normal('gamma_1', mu=0., sigma=1e5)\n",
    "\n",
    "\n",
    "    # Uranium model for intercept\n",
    "    mu_a = gamma_0 + gamma_1*u\n",
    "    # County variation not explained by uranium\n",
    "    eps_a = Normal('eps_a', mu=0, sigma=sigma_a, shape=counties)\n",
    "    a = Deterministic('a', mu_a + eps_a[county])\n",
    "\n",
    "    # Common slope\n",
    "    b = Normal('b', mu=0., sigma=1e5)\n",
    "\n",
    "    # Model error\n",
    "    sigma_y = Uniform('sigma_y', lower=0, upper=100)\n",
    "\n",
    "    # Expected value\n",
    "    y_hat = a + b * floor_measure\n",
    "\n",
    "    # Data likelihood\n",
    "    y_like = Normal('y_like', mu=y_hat, sigma=sigma_y, observed=log_radon)\n",
    "\"\"\""
   ]
  },
  {
   "cell_type": "markdown",
   "metadata": {},
   "source": [
    "Below is the Provided Code for Bright Spot model python 2 MC2"
   ]
  },
  {
   "cell_type": "code",
   "execution_count": 41,
   "metadata": {},
   "outputs": [
    {
     "ename": "AttributeError",
     "evalue": "module 'pymc3' has no attribute 'Lambda'",
     "output_type": "error",
     "traceback": [
      "\u001b[1;31m---------------------------------------------------------------------------\u001b[0m",
      "\u001b[1;31mAttributeError\u001b[0m                            Traceback (most recent call last)",
      "\u001b[1;32m<ipython-input-41-a897f7cf4232>\u001b[0m in \u001b[0;36m<module>\u001b[1;34m\u001b[0m\n\u001b[0;32m      6\u001b[0m     \u001b[0msigma1\u001b[0m \u001b[1;33m=\u001b[0m \u001b[0mpm\u001b[0m\u001b[1;33m.\u001b[0m\u001b[0mUniform\u001b[0m\u001b[1;33m(\u001b[0m\u001b[1;34m'SD1'\u001b[0m\u001b[1;33m,\u001b[0m \u001b[0mlower\u001b[0m\u001b[1;33m=\u001b[0m\u001b[1;36m0\u001b[0m\u001b[1;33m,\u001b[0m \u001b[0mupper\u001b[0m\u001b[1;33m=\u001b[0m\u001b[1;36m100000\u001b[0m\u001b[1;33m)\u001b[0m\u001b[1;33m\u001b[0m\u001b[1;33m\u001b[0m\u001b[0m\n\u001b[0;32m      7\u001b[0m     \u001b[1;31m# Precisions of larger-scale intercepts\u001b[0m\u001b[1;33m\u001b[0m\u001b[1;33m\u001b[0m\u001b[1;33m\u001b[0m\u001b[0m\n\u001b[1;32m----> 8\u001b[1;33m     \u001b[0mtau1\u001b[0m \u001b[1;33m=\u001b[0m \u001b[0mpm\u001b[0m\u001b[1;33m.\u001b[0m\u001b[0mLambda\u001b[0m\u001b[1;33m(\u001b[0m\u001b[1;34m'tau1'\u001b[0m\u001b[1;33m,\u001b[0m \u001b[1;32mlambda\u001b[0m \u001b[0msd\u001b[0m\u001b[1;33m=\u001b[0m\u001b[0msigma1\u001b[0m\u001b[1;33m:\u001b[0m \u001b[0msd\u001b[0m\u001b[1;33m**\u001b[0m\u001b[1;33m-\u001b[0m\u001b[1;36m2\u001b[0m\u001b[1;33m)\u001b[0m\u001b[1;33m\u001b[0m\u001b[1;33m\u001b[0m\u001b[0m\n\u001b[0m\u001b[0;32m      9\u001b[0m \u001b[1;33m\u001b[0m\u001b[0m\n\u001b[0;32m     10\u001b[0m     \u001b[1;31m# Larger-scale parameters of interest\u001b[0m\u001b[1;33m\u001b[0m\u001b[1;33m\u001b[0m\u001b[1;33m\u001b[0m\u001b[0m\n",
      "\u001b[1;31mAttributeError\u001b[0m: module 'pymc3' has no attribute 'Lambda'"
     ]
    }
   ],
   "source": [
    "# Global log-biomass\n",
    "with Model() as larger_model:\n",
    "    gamma_0 = pm.Normal('den', mu=5.0, tau=0.01, shape=3)\n",
    "\n",
    "    # Standard deviation of intercepts\n",
    "    sigma1 = pm.Uniform('SD1', lower=0, upper=100000) \n",
    "    # Precisions of larger-scale intercepts\n",
    "    tau1 = pm.Lambda('tau1', lambda sd=sigma1: sd**-2)\n",
    "\n",
    "    # Larger-scale parameters of interest\n",
    "    gamma_names = ('lg_pop','HDI', 'Voice')\n",
    "    ngcov = len(gamma_names)\n",
    "\n",
    "    # Larger covaraites\n",
    "    gamma = pm.Normal('gamma', mu=0.0, tau=0.001, value=np.zeros(ngcov))\n",
    "    # Labeled covaraites\n",
    "    gammaL = [pm.Lambda('%s'%gamma_names[i], lambda g=gamma[i]: g) for i in range(ngcov)]\n",
    "\n",
    "# Linear model for larger-scale intercepts\n",
    "#eta_mu = pm.Lambda('eta_mu', lambda g0=gamma_0, g1=gamma[0], g2=gamma[1], g3=gamma[2], g4=gamma[3], g5=gamma[4]: \n",
    "               #    g0+g1*lg_pop+g2*hdi+g3*voice+g4*landings+g5*tourism)\n",
    "\n",
    "# Distribution of larger-scale intercepts\n",
    "#eta_0 = pm.Normal('larger_biomass', mu=eta_mu, tau=tau1, value=Lobs)"
   ]
  },
  {
   "cell_type": "markdown",
   "metadata": {},
   "source": [
    "Radon example switch out"
   ]
  },
  {
   "cell_type": "code",
   "execution_count": 103,
   "metadata": {},
   "outputs": [],
   "source": [
    "#move up later\n",
    "\n",
    "depth_m = df.depth_m.values\n",
    "log_den = df.den.values"
   ]
  },
  {
   "cell_type": "code",
   "execution_count": 104,
   "metadata": {},
   "outputs": [],
   "source": [
    "with Model() as varying_intercept_slope:\n",
    "    \n",
    "    # Priors\n",
    "    mu_a = Normal('mu_a', mu=0., sigma=10)\n",
    "    sigma_a = HalfCauchy('sigma_a', 5)\n",
    "    \n",
    "    mu_b = Normal('mu_b', mu=0., sigma=10)\n",
    "    sigma_b = HalfCauchy('sigma_b', 5)\n",
    "    \n",
    "    # Random intercepts\n",
    "    a = Normal('a', mu=mu_a, sigma=sigma_a, shape=n_countries)\n",
    "    # Random slopes\n",
    "    b = Normal('b', mu=mu_b, sigma=sigma_b, shape=n_countries)\n",
    "    \n",
    "    # Model error\n",
    "    sigma_y = Uniform('sigma_y', lower=0, upper=100)\n",
    "    \n",
    "    # Expected value\n",
    "    y_hat = a[country] + b[country] * depth_m\n",
    "    \n",
    "    # Data likelihood\n",
    "    y_like = Normal('y_like', mu=y_hat, sigma=sigma_y, observed=log_den)"
   ]
  },
  {
   "cell_type": "code",
   "execution_count": 107,
   "metadata": {},
   "outputs": [
    {
     "name": "stderr",
     "output_type": "stream",
     "text": [
      "Auto-assigning NUTS sampler...\n",
      "Initializing NUTS using jitter+adapt_diag...\n",
      "Multiprocess sampling (2 chains in 2 jobs)\n",
      "NUTS: [sigma_y, b, a, sigma_b, mu_b, sigma_a, mu_a]\n",
      "Sampling 2 chains, 618 divergences: 100%|██████████████████████████████████████| 4000/4000 [00:23<00:00, 172.99draws/s]\n",
      "There were 36 divergences after tuning. Increase `target_accept` or reparameterize.\n",
      "There were 582 divergences after tuning. Increase `target_accept` or reparameterize.\n",
      "The acceptance probability does not match the target. It is 0.30045757356817504, but should be close to 0.8. Try to increase the number of tuning steps.\n",
      "The rhat statistic is larger than 1.2 for some parameters.\n",
      "The estimated number of effective samples is smaller than 200 for some parameters.\n"
     ]
    }
   ],
   "source": [
    "with varying_intercept_slope:\n",
    "    varying_intercept_slope_trace = sample(1000, tune=1000, cores=2)"
   ]
  },
  {
   "cell_type": "code",
   "execution_count": 109,
   "metadata": {},
   "outputs": [
    {
     "data": {
      "image/png": "[encoded data removed]",
      "text/plain": [
       "<Figure size 432x388.8 with 1 Axes>"
      ]
     },
     "metadata": {
      "needs_background": "light"
     },
     "output_type": "display_data"
    }
   ],
   "source": [
    "from arviz import plot_forest\n",
    "plot_forest(varying_intercept_slope_trace, var_names=['a','b']);"
   ]
  },
  {
   "cell_type": "code",
   "execution_count": 110,
   "metadata": {},
   "outputs": [
    {
     "data": {
      "image/png": "[encoded data removed]",
      "text/plain": [
       "<Figure size 432x288 with 1 Axes>"
      ]
     },
     "metadata": {
      "needs_background": "light"
     },
     "output_type": "display_data"
    }
   ],
   "source": [
    "xvals = np.arange(2)\n",
    "bp2 = varying_intercept_slope_trace['a'].mean(axis=0)\n",
    "mp2 = varying_intercept_slope_trace['b'].mean(axis=0)\n",
    "for bi,mi in zip(bp2,mp2):\n",
    "    plt.plot(xvals, mi*xvals + bi, 'bo-', alpha=0.4)\n",
    "plt.xlim(-0.1, 1.1);"
   ]
  },
  {
   "cell_type": "code",
   "execution_count": null,
   "metadata": {},
   "outputs": [],
   "source": []
  }
 ],
 "metadata": {
  "kernelspec": {
   "display_name": "Python 3",
   "language": "python",
   "name": "python3"
  },
  "language_info": {
   "codemirror_mode": {
    "name": "ipython",
    "version": 3
   },
   "file_extension": ".py",
   "mimetype": "text/x-python",
   "name": "python",
   "nbconvert_exporter": "python",
   "pygments_lexer": "ipython3",
   "version": "3.7.6"
  }
 },
 "nbformat": 4,
 "nbformat_minor": 2
}
